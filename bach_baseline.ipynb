{
 "cells": [
  {
   "cell_type": "markdown",
   "metadata": {},
   "source": [
    "# Completing Bach's famous unfinished fugue\n",
    "## Linear Regression for time series prediction"
   ]
  },
  {
   "cell_type": "code",
   "execution_count": 1,
   "metadata": {},
   "outputs": [],
   "source": [
    "import pandas as pd\n",
    "import numpy as np\n",
    "import matplotlib.pyplot as plt\n",
    "import operator\n",
    "import random\n",
    "import pickle\n",
    "\n",
    "from sklearn.linear_model import LinearRegression\n",
    "from sklearn.model_selection import TimeSeriesSplit\n",
    "from sklearn.metrics import mean_squared_error, r2_score, accuracy_score, f1_score, log_loss\n",
    "from scipy import stats\n",
    "from itertools import islice\n",
    "\n",
    "# for reproducing\n",
    "random.seed(2021)"
   ]
  },
  {
   "cell_type": "code",
   "execution_count": 2,
   "metadata": {},
   "outputs": [],
   "source": [
    "def bar_chart(X, set_X):\n",
    "    \n",
    "    notes = []\n",
    "    freq = []\n",
    "    for x in set_X:\n",
    "        notes.append(str(x))\n",
    "        freq.append(X.count(x))\n",
    "#         print(f\"{x}:\\t{X.count(x)}/{len(X)} ~\\t{round((X.count(x)/len(X))*100,2)} %\")\n",
    "    \n",
    "    N = len(set_X)\n",
    "    ind = np.arange(N) # the x locations for the groups\n",
    "\n",
    "    fig = plt.figure()\n",
    "    ax = fig.add_axes([0,0,1,1])\n",
    "\n",
    "\n",
    "    ax.bar(ind, freq, 0.75)\n",
    "\n",
    "    ax.set_ylabel('Freq')\n",
    "    ax.set_xlabel('Notes')\n",
    "    ax.set_title('Frequency by note for a voice')\n",
    "    plt.xticks(ind, set_X)\n",
    "    steps = 100\n",
    "    ax.set_yticks(np.arange(0, max(freq)+steps, steps))\n",
    "    plt.show()"
   ]
  },
  {
   "cell_type": "code",
   "execution_count": 3,
   "metadata": {
    "scrolled": false
   },
   "outputs": [
    {
     "data": {
      "text/html": [
       "<div>\n",
       "<style scoped>\n",
       "    .dataframe tbody tr th:only-of-type {\n",
       "        vertical-align: middle;\n",
       "    }\n",
       "\n",
       "    .dataframe tbody tr th {\n",
       "        vertical-align: top;\n",
       "    }\n",
       "\n",
       "    .dataframe thead th {\n",
       "        text-align: right;\n",
       "    }\n",
       "</style>\n",
       "<table border=\"1\" class=\"dataframe\">\n",
       "  <thead>\n",
       "    <tr style=\"text-align: right;\">\n",
       "      <th></th>\n",
       "      <th>0</th>\n",
       "      <th>1</th>\n",
       "      <th>2</th>\n",
       "      <th>3</th>\n",
       "    </tr>\n",
       "  </thead>\n",
       "  <tbody>\n",
       "    <tr>\n",
       "      <th>0</th>\n",
       "      <td>0</td>\n",
       "      <td>0</td>\n",
       "      <td>0</td>\n",
       "      <td>0</td>\n",
       "    </tr>\n",
       "    <tr>\n",
       "      <th>1</th>\n",
       "      <td>0</td>\n",
       "      <td>0</td>\n",
       "      <td>0</td>\n",
       "      <td>0</td>\n",
       "    </tr>\n",
       "    <tr>\n",
       "      <th>2</th>\n",
       "      <td>0</td>\n",
       "      <td>0</td>\n",
       "      <td>0</td>\n",
       "      <td>0</td>\n",
       "    </tr>\n",
       "    <tr>\n",
       "      <th>3</th>\n",
       "      <td>0</td>\n",
       "      <td>0</td>\n",
       "      <td>0</td>\n",
       "      <td>0</td>\n",
       "    </tr>\n",
       "    <tr>\n",
       "      <th>4</th>\n",
       "      <td>0</td>\n",
       "      <td>0</td>\n",
       "      <td>0</td>\n",
       "      <td>0</td>\n",
       "    </tr>\n",
       "    <tr>\n",
       "      <th>...</th>\n",
       "      <td>...</td>\n",
       "      <td>...</td>\n",
       "      <td>...</td>\n",
       "      <td>...</td>\n",
       "    </tr>\n",
       "    <tr>\n",
       "      <th>3819</th>\n",
       "      <td>0</td>\n",
       "      <td>0</td>\n",
       "      <td>49</td>\n",
       "      <td>0</td>\n",
       "    </tr>\n",
       "    <tr>\n",
       "      <th>3820</th>\n",
       "      <td>0</td>\n",
       "      <td>0</td>\n",
       "      <td>51</td>\n",
       "      <td>0</td>\n",
       "    </tr>\n",
       "    <tr>\n",
       "      <th>3821</th>\n",
       "      <td>0</td>\n",
       "      <td>0</td>\n",
       "      <td>51</td>\n",
       "      <td>0</td>\n",
       "    </tr>\n",
       "    <tr>\n",
       "      <th>3822</th>\n",
       "      <td>0</td>\n",
       "      <td>0</td>\n",
       "      <td>54</td>\n",
       "      <td>0</td>\n",
       "    </tr>\n",
       "    <tr>\n",
       "      <th>3823</th>\n",
       "      <td>0</td>\n",
       "      <td>0</td>\n",
       "      <td>54</td>\n",
       "      <td>0</td>\n",
       "    </tr>\n",
       "  </tbody>\n",
       "</table>\n",
       "<p>3824 rows × 4 columns</p>\n",
       "</div>"
      ],
      "text/plain": [
       "      0  1   2  3\n",
       "0     0  0   0  0\n",
       "1     0  0   0  0\n",
       "2     0  0   0  0\n",
       "3     0  0   0  0\n",
       "4     0  0   0  0\n",
       "...  .. ..  .. ..\n",
       "3819  0  0  49  0\n",
       "3820  0  0  51  0\n",
       "3821  0  0  51  0\n",
       "3822  0  0  54  0\n",
       "3823  0  0  54  0\n",
       "\n",
       "[3824 rows x 4 columns]"
      ]
     },
     "execution_count": 3,
     "metadata": {},
     "output_type": "execute_result"
    }
   ],
   "source": [
    "dat = pd.read_csv(\"F.txt\", sep=\"\\t\", header=None)\n",
    "dat"
   ]
  },
  {
   "cell_type": "code",
   "execution_count": 4,
   "metadata": {},
   "outputs": [],
   "source": [
    "voice = 0 # select voice range (0, 3)"
   ]
  },
  {
   "cell_type": "code",
   "execution_count": 5,
   "metadata": {},
   "outputs": [
    {
     "name": "stdout",
     "output_type": "stream",
     "text": [
      "[0, 0, 0, 0, 0, 0, 0, 0, 0, 0]\n",
      "22 [0, 54, 55, 56, 57, 58, 59, 60, 61, 62, 63, 64, 65, 66, 67, 68, 69, 70, 71, 73, 74, 76]\n"
     ]
    },
    {
     "data": {
      "image/png": "[encoded data removed]",
      "text/plain": [
       "<Figure size 432x288 with 1 Axes>"
      ]
     },
     "metadata": {
      "needs_background": "light"
     },
     "output_type": "display_data"
    }
   ],
   "source": [
    "X = list(dat[voice])\n",
    "print(X[:10])\n",
    "set_X = list(set(X))\n",
    "print(len(set_X), set_X)\n",
    "\n",
    "# frequency per note in the voice\n",
    "bar_chart(X, set_X)"
   ]
  },
  {
   "cell_type": "code",
   "execution_count": 6,
   "metadata": {
    "scrolled": false
   },
   "outputs": [
    {
     "name": "stdout",
     "output_type": "stream",
     "text": [
      "{'range': [248, 16, 96, 62, 16, 180, 128, 8, 4, 32, 6], 'mode': 16, 'mean': 72, 'pd': {248: 0.09, 16: 0.18, 96: 0.09, 62: 0.09, 180: 0.09, 128: 0.09, 8: 0.09, 4: 0.09, 32: 0.09, 6: 0.09}}\n"
     ]
    }
   ],
   "source": [
    "# get range, mode, mean, probabilities per range for each note in the voice\n",
    "len_dict = {}\n",
    "c = 0\n",
    "\n",
    "for idx, x in enumerate(X):\n",
    "    if x not in len_dict.keys():\n",
    "        len_dict[x] = []\n",
    "    if idx == 0:\n",
    "        c += 1\n",
    "    elif x == X[idx-1]:\n",
    "        c += 1\n",
    "    else:\n",
    "        len_dict[X[idx-1]].append(c)\n",
    "        c = 1\n",
    "        \n",
    "for k,v in len_dict.items():\n",
    "    num = round(np.mean(v))\n",
    "    if num % 2 != 0:\n",
    "        num += 1\n",
    "    d = {}\n",
    "    for i in v:\n",
    "        d[i] = round(v.count(i)/len(v), 2)\n",
    "    len_dict[k] = {\"range\": v, \"mode\": stats.mode(v)[0][0], \"mean\": num, \"pd\": d}\n",
    "\n",
    "# example note: 0\n",
    "print(len_dict[0])"
   ]
  },
  {
   "cell_type": "code",
   "execution_count": 7,
   "metadata": {},
   "outputs": [
    {
     "name": "stdout",
     "output_type": "stream",
     "text": [
      "[0, 61, 66, 64, 66, 68, 61, 63, 64, 66]\n"
     ]
    },
    {
     "data": {
      "image/png": "[encoded data removed]",
      "text/plain": [
       "<Figure size 432x288 with 1 Axes>"
      ]
     },
     "metadata": {
      "needs_background": "light"
     },
     "output_type": "display_data"
    }
   ],
   "source": [
    "# convert series of notes of length n to 1\n",
    "X_one = []\n",
    "\n",
    "for idx, x in enumerate(X):\n",
    "    if idx == 0:\n",
    "        X_one.append(x)\n",
    "    elif x != X[idx-1]:\n",
    "        X_one.append(x)\n",
    "\n",
    "print(X_one[:10])\n",
    "X = X_one\n",
    "\n",
    "# frequency per note in the voice after transform\n",
    "bar_chart(X, set_X)"
   ]
  },
  {
   "cell_type": "code",
   "execution_count": 8,
   "metadata": {},
   "outputs": [],
   "source": [
    "def to_one_hot(set_X, x):\n",
    "    n = set_X.index(x)\n",
    "    return [1 if i==n else 0 for i in range(len(set_X))]"
   ]
  },
  {
   "cell_type": "code",
   "execution_count": 9,
   "metadata": {},
   "outputs": [],
   "source": [
    "# convert to one-hot vector\n",
    "X_one = [to_one_hot(set_X, x) for x in X]"
   ]
  },
  {
   "cell_type": "code",
   "execution_count": 10,
   "metadata": {},
   "outputs": [
    {
     "name": "stdout",
     "output_type": "stream",
     "text": [
      "[[0 0 0 0 0 0 0 0 1 0 0 0 0 0 0 0 0 0 0 0 0 0]\n",
      " [0 0 0 0 0 0 0 0 0 0 0 0 0 1 0 0 0 0 0 0 0 0]]\n",
      "[[0 0 0 0 0 0 0 0 1 0 0 0 0 0 0 0 0 0 0 0 0 0]\n",
      " [0 0 0 0 0 0 0 0 0 0 0 0 0 1 0 0 0 0 0 0 0 0]]\n"
     ]
    }
   ],
   "source": [
    "# Sliding window with one-step forecasting\n",
    "X_t0 = np.array(X_one[:-1])\n",
    "y_t1 = np.array(X_one[1:])\n",
    "print(X_t0[1:3])\n",
    "print(y_t1[:2])"
   ]
  },
  {
   "cell_type": "code",
   "execution_count": 11,
   "metadata": {},
   "outputs": [],
   "source": [
    "reg = LinearRegression().fit(X_t0, y_t1)"
   ]
  },
  {
   "cell_type": "code",
   "execution_count": 12,
   "metadata": {},
   "outputs": [
    {
     "data": {
      "text/plain": [
       "array([ 4.34782609e-02, -4.16333634e-17,  4.16333634e-17,  0.00000000e+00,\n",
       "       -2.42861287e-17, -1.04083409e-17, -1.11022302e-16, -3.29597460e-17,\n",
       "        7.24637681e-02,  2.28983499e-16,  4.34782609e-02, -8.32667268e-17,\n",
       "        1.44927536e-02,  4.49275362e-01,  1.44927536e-02,  1.52655666e-16,\n",
       "        2.31884058e-01,  2.89855072e-02,  4.34782609e-02,  5.79710145e-02,\n",
       "        1.38777878e-17,  8.67361738e-19])"
      ]
     },
     "execution_count": 12,
     "metadata": {},
     "output_type": "execute_result"
    }
   ],
   "source": [
    "# Sanity check on last training instance\n",
    "reg.predict([X_t0[-1]])[0]"
   ]
  },
  {
   "cell_type": "code",
   "execution_count": 13,
   "metadata": {},
   "outputs": [
    {
     "data": {
      "text/plain": [
       "62"
      ]
     },
     "execution_count": 13,
     "metadata": {},
     "output_type": "execute_result"
    }
   ],
   "source": [
    "# Get the max probability \n",
    "# Trace back the note via its index e.g.\n",
    "yhat = reg.predict([X_t0[49]])\n",
    "pred = set_X[yhat.tolist()[0].index(max(yhat.tolist()[0]))]\n",
    "pred"
   ]
  },
  {
   "cell_type": "code",
   "execution_count": 14,
   "metadata": {
    "scrolled": true
   },
   "outputs": [
    {
     "name": "stdout",
     "output_type": "stream",
     "text": [
      "Coefficients: \n",
      " [[-0.01786067 -0.01786067 -0.01786067  0.10713933  0.08213933 -0.01786067\n",
      "   0.01785362 -0.01786067  0.01603764 -0.01786067 -0.01786067 -0.00293529\n",
      "   0.01244236 -0.00824528 -0.01786067  0.0256176  -0.01786067 -0.01786067\n",
      "  -0.01786067 -0.01786067 -0.01786067 -0.01786067]\n",
      " [-0.05113636 -0.05113636  0.94886364  0.07386364 -0.05113636 -0.05113636\n",
      "  -0.05113636 -0.05113636 -0.05113636 -0.05113636 -0.05113636 -0.05113636\n",
      "  -0.05113636 -0.05113636 -0.05113636 -0.05113636 -0.05113636 -0.05113636\n",
      "  -0.05113636 -0.05113636 -0.05113636 -0.05113636]\n",
      " [-0.02272727  0.47727273 -0.02272727 -0.02272727 -0.02272727 -0.02272727\n",
      "  -0.02272727 -0.02272727 -0.02272727 -0.02272727 -0.02272727 -0.02272727\n",
      "  -0.02272727 -0.02272727 -0.02272727 -0.02272727 -0.02272727 -0.02272727\n",
      "  -0.02272727 -0.02272727 -0.02272727 -0.02272727]\n",
      " [-0.02310086 -0.02310086 -0.02310086 -0.02310086  0.37689914 -0.02310086\n",
      "   0.01261342 -0.02310086 -0.00615171 -0.02310086  0.03245469 -0.02310086\n",
      "  -0.02310086 -0.02310086 -0.02310086 -0.02310086 -0.02310086 -0.02310086\n",
      "  -0.02310086 -0.02310086 -0.02310086 -0.02310086]\n",
      " [ 0.07036381 -0.02054528 -0.02054528  0.10445472 -0.02054528 -0.02054528\n",
      "   0.15802615 -0.02054528 -0.00359612  0.00509575 -0.02054528 -0.0056199\n",
      "  -0.02054528 -0.02054528 -0.02054528 -0.02054528 -0.02054528 -0.02054528\n",
      "  -0.02054528 -0.02054528 -0.02054528 -0.02054528]\n",
      " [-0.02006356 -0.02006356 -0.02006356 -0.02006356  0.07993644 -0.02006356\n",
      "   0.12279358  0.14660311 -0.00311441 -0.02006356 -0.02006356 -0.00513819\n",
      "  -0.02006356 -0.02006356 -0.02006356 -0.02006356 -0.02006356 -0.02006356\n",
      "  -0.02006356 -0.02006356 -0.02006356 -0.02006356]\n",
      " [-0.09267288  0.40732712 -0.09267288  0.03232712  0.00732712  0.78232712\n",
      "  -0.09267288  0.07399379  0.05986949 -0.04139083 -0.09267288 -0.06282213\n",
      "  -0.09267288 -0.05421134 -0.09267288 -0.09267288 -0.09267288 -0.09267288\n",
      "  -0.09267288 -0.09267288 -0.09267288 -0.09267288]\n",
      " [-0.01078194 -0.01078194 -0.01078194 -0.01078194 -0.01078194  0.11421806\n",
      "   0.02493234 -0.01078194  0.04006551  0.01485908 -0.01078194 -0.01078194\n",
      "  -0.01078194 -0.01078194 -0.01078194 -0.01078194 -0.01078194 -0.01078194\n",
      "  -0.01078194 -0.01078194 -0.01078194 -0.01078194]\n",
      " [ 0.07794951 -0.10386868 -0.10386868  0.14613132 -0.10386868 -0.10386868\n",
      "   0.25327418  0.39613132 -0.10386868  0.43459286  0.11835355 -0.0889433\n",
      "  -0.10386868 -0.05579175 -0.00386868 -0.03140491 -0.10386868 -0.10386868\n",
      "  -0.10386868 -0.10386868 -0.10386868 -0.10386868]\n",
      " [ 0.13866186 -0.04315632 -0.04315632 -0.04315632  0.15684368 -0.04315632\n",
      "  -0.04315632 -0.04315632  0.22803012 -0.04315632 -0.01537855  0.22550039\n",
      "  -0.04315632 -0.04315632 -0.04315632 -0.04315632 -0.04315632 -0.04315632\n",
      "  -0.04315632 -0.04315632 -0.04315632 -0.04315632]\n",
      " [-0.03958502 -0.03958502 -0.03958502  0.08541498 -0.03958502 -0.03958502\n",
      "  -0.03958502  0.12708165  0.0960082  -0.01394399 -0.03958502  0.24399707\n",
      "   0.05132407 -0.03958502 -0.03958502  0.00389324 -0.03958502 -0.03958502\n",
      "  -0.03958502 -0.03958502 -0.03958502 -0.03958502]\n",
      " [ 0.02710171 -0.06380738 -0.06380738 -0.06380738  0.03619262 -0.06380738\n",
      "   0.07904976 -0.06380738  0.00398923  0.19260287  0.32508151 -0.06380738\n",
      "  -0.06380738  0.23426954 -0.06380738 -0.06380738 -0.06380738 -0.06380738\n",
      "  -0.00498385 -0.06380738 -0.06380738 -0.06380738]\n",
      " [-0.02138917 -0.02138917 -0.02138917 -0.02138917 -0.02138917 -0.02138917\n",
      "  -0.02138917 -0.02138917 -0.02138917 -0.02138917  0.17305527  0.03831232\n",
      "  -0.02138917  0.18053391 -0.02138917 -0.00689642 -0.02138917 -0.02138917\n",
      "  -0.02138917 -0.02138917 -0.02138917 -0.02138917]\n",
      " [-0.11730622 -0.11730622 -0.11730622 -0.11730622 -0.11730622 -0.11730622\n",
      "  -0.08159194 -0.11730622  0.018287   -0.0916652  -0.06175067  0.12149975\n",
      "   0.73117862 -0.11730622  0.43269378  0.33196914 -0.07563956 -0.11730622\n",
      "  -0.11730622  0.08269378 -0.11730622 -0.11730622]\n",
      " [ 0.0708067  -0.02010239 -0.02010239 -0.02010239 -0.02010239 -0.02010239\n",
      "   0.0156119  -0.02010239 -0.02010239  0.00553864 -0.02010239 -0.02010239\n",
      "   0.01020064  0.03758992 -0.02010239 -0.00560963  0.16739761 -0.02010239\n",
      "  -0.02010239 -0.02010239 -0.02010239 -0.02010239]\n",
      " [ 0.01287327 -0.07803582 -0.07803582  0.04696418 -0.07803582 -0.07803582\n",
      "  -0.07803582 -0.07803582 -0.02718836 -0.07803582 -0.02248026 -0.07803582\n",
      "  -0.07803582  0.19119495  0.07196418 -0.07803582  0.48446418 -0.07803582\n",
      "  -0.04862405 -0.02803582  0.25529752 -0.07803582]\n",
      " [ 0.03347166 -0.05743743 -0.05743743 -0.05743743 -0.05743743 -0.05743743\n",
      "  -0.05743743 -0.05743743 -0.05743743 -0.05743743 -0.05743743 -0.04251206\n",
      "  -0.05743743 -0.02859128  0.14256257  0.17444663 -0.05743743 -0.05743743\n",
      "   0.58962139 -0.00743743 -0.05743743 -0.05743743]\n",
      " [-0.00532822 -0.00532822 -0.00532822 -0.00532822 -0.00532822 -0.00532822\n",
      "  -0.00532822 -0.00532822 -0.00532822 -0.00532822 -0.00532822 -0.00532822\n",
      "  -0.00532822 -0.00532822 -0.00532822  0.02365729 -0.00532822 -0.00532822\n",
      "   0.08290708 -0.00532822 -0.00532822 -0.00532822]\n",
      " [-0.09095599 -0.09095599 -0.09095599 -0.09095599 -0.09095599 -0.09095599\n",
      "  -0.09095599 -0.09095599 -0.09095599 -0.09095599 -0.09095599 -0.07603062\n",
      "  -0.09095599 -0.05249445 -0.09095599 -0.04747773  0.09654401  0.90904401\n",
      "  -0.09095599  0.45904401  0.07571067 -0.09095599]\n",
      " [ 0.13650191 -0.04531627 -0.04531627 -0.04531627 -0.04531627 -0.04531627\n",
      "  -0.04531627 -0.04531627  0.00553119 -0.04531627 -0.04531627 -0.01546553\n",
      "  -0.04531627 -0.04531627 -0.04531627  0.01265474 -0.04531627 -0.04531627\n",
      "   0.13115432 -0.04531627  0.45468373 -0.04531627]\n",
      " [-0.05365676 -0.05365676 -0.05365676 -0.05365676 -0.05365676 -0.05365676\n",
      "  -0.05365676 -0.05365676 -0.05365676 -0.05365676 -0.05365676 -0.05365676\n",
      "  -0.05365676 -0.04404138 -0.05365676 -0.05365676 -0.03282343 -0.05365676\n",
      "  -0.05365676  0.09634324 -0.05365676  0.94634324]\n",
      " [-0.0011655  -0.0011655  -0.0011655  -0.0011655  -0.0011655  -0.0011655\n",
      "  -0.0011655  -0.0011655  -0.0011655   0.02447552 -0.0011655  -0.0011655\n",
      "  -0.0011655  -0.0011655  -0.0011655  -0.0011655  -0.0011655  -0.0011655\n",
      "  -0.0011655  -0.0011655  -0.0011655  -0.0011655 ]]\n",
      "Mean squared error: 79.59\n",
      "Coefficient of determination: 0.11\n"
     ]
    },
    {
     "data": {
      "image/png": "[encoded data removed]",
      "text/plain": [
       "<Figure size 432x288 with 1 Axes>"
      ]
     },
     "metadata": {},
     "output_type": "display_data"
    }
   ],
   "source": [
    "y_pred = [set_X[y.tolist().index(max(y))] for y in reg.predict(X_t0)]\n",
    "y_test = [set_X[y.tolist().index(max(y))] for y in y_t1]\n",
    "\n",
    "# The coefficients\n",
    "print('Coefficients: \\n', reg.coef_)\n",
    "# The mean squared error\n",
    "print('Mean squared error: %.2f'\n",
    "      % mean_squared_error(y_test, y_pred))\n",
    "# The coefficient of determination: 1 is perfect prediction\n",
    "print('Coefficient of determination: %.2f'\n",
    "      % r2_score(y_test, y_pred))\n",
    "\n",
    "# Plot outputs\n",
    "plt.scatter(X[:-1], y_test,  color='black')\n",
    "plt.plot(X[:-1], y_pred, color='blue', linewidth=3)\n",
    "\n",
    "plt.xticks(())\n",
    "plt.yticks(())\n",
    "\n",
    "plt.show()"
   ]
  },
  {
   "cell_type": "code",
   "execution_count": 16,
   "metadata": {
    "scrolled": true
   },
   "outputs": [
    {
     "name": "stdout",
     "output_type": "stream",
     "text": [
      "TRAIN: [0 ... 104] TEST: [105 ... 206]\n",
      "TRAIN: [0 ... 206] TEST: [207 ... 308]\n",
      "TRAIN: [0 ... 308] TEST: [309 ... 410]\n",
      "TRAIN: [0 ... 410] TEST: [411 ... 512]\n",
      "TRAIN: [0 ... 512] TEST: [513 ... 614]\n"
     ]
    }
   ],
   "source": [
    "# Cross validation for time series\n",
    "tscv = TimeSeriesSplit()\n",
    "\n",
    "for train_index, test_index in tscv.split(X_t0):\n",
    "    print(f\"TRAIN: [{train_index[0]} ... {train_index[-1]}] TEST: [{test_index[0]} ... {test_index[-1]}]\")\n",
    "    X_train, X_test = X_t0[train_index], X_t0[test_index]\n",
    "    y_train, y_test = y_t1[train_index], y_t1[test_index]\n",
    "\n",
    "    reg = LinearRegression().fit(X_train, y_train)\n",
    "\n",
    "    y_pred_vec_train = reg.predict(X_train)\n",
    "    y_pred_train = [set_X[np.power(_y,3).tolist().index(max(np.power(_y,3)))] for _y in y_pred_vec_train]\n",
    "    y_train_notes = [set_X[_y.tolist().index(max(_y))] for _y in y_train]\n",
    "    \n",
    "    print(f\"\\t#MSE train\\t{round(mean_squared_error(y_train_notes, y_pred_train),2)} \"\n",
    "          f\"#train log loss\\t{round(log_loss(y_train, y_pred_vec_train),2)} \"\n",
    "          f\"#train error\\t{round(reg.score(X_train, y_train),2)} \"\n",
    "          f\"#train acc\\t{round(accuracy_score(y_train_notes, y_pred_train),2)} \"\n",
    "          f\"#train f1\\t{round(f1_score(y_train_notes, y_pred_train, average='macro'), 2)}\")\n",
    "\n",
    "    y_pred_vec_test = reg.predict(X_test)\n",
    "    y_pred_test = [set_X[np.power(_y,3).tolist().index(max(np.power(_y,3)))] for _y in y_pred_vec_test]\n",
    "    y_test_notes = [set_X[_y.tolist().index(max(_y))] for _y in y_test]\n",
    "\n",
    "    print(f\"\\t#MSE test\\t{round(mean_squared_error(y_test_notes, y_pred_test),2)} \"\n",
    "          f\"#test log loss\\t{round(log_loss(y_test, y_pred_vec_test),2)} \"\n",
    "          f\"#test error\\t{round(reg.score(X_test, y_test),2)} \"\n",
    "          f\"#test acc\\t{round(accuracy_score(y_test_notes, y_pred_test),2)} \"\n",
    "          f\"#test f1\\t{round(f1_score(y_test_notes, y_pred_test, average='macro'),2)}\")"
   ]
  },
  {
   "cell_type": "code",
   "execution_count": 18,
   "metadata": {},
   "outputs": [],
   "source": [
    "# save the model to disk\n",
    "filename = f\"bach_{voice}.sav\"\n",
    "pickle.dump(reg, open(filename, 'wb'))"
   ]
  },
  {
   "cell_type": "code",
   "execution_count": 19,
   "metadata": {},
   "outputs": [
    {
     "data": {
      "text/plain": [
       "({0, 61, 63, 65, 66, 67, 69, 70, 71, 73},\n",
       " [0, 70, 71, 73, 66, 65, 65, 67, 69, 63])"
      ]
     },
     "execution_count": 19,
     "metadata": {},
     "output_type": "execute_result"
    }
   ],
   "source": [
    "# Predict t+1 note n times from t0\n",
    "preds_vec = np.array([X_t0[-1]])\n",
    "preds = []\n",
    "for i in range(100):\n",
    "    yhat = reg.predict(preds_vec[-1].reshape(1, -1))\n",
    "    # Pick note, add it\n",
    "    yhat_dict = dict(zip(set_X, yhat[0].tolist()))\n",
    "    yhat_dict_sorted = dict(sorted(yhat_dict.items(), key=operator.itemgetter(1),reverse=True))\n",
    "    top_n = list(islice(yhat_dict_sorted.items(), 10))\n",
    "    p = random.choice(top_n)[0]\n",
    "    preds.append(p)\n",
    "    np.concatenate((preds_vec, [to_one_hot(set_X, p)]))\n",
    "set(preds), preds[:10]"
   ]
  },
  {
   "cell_type": "code",
   "execution_count": 20,
   "metadata": {},
   "outputs": [
    {
     "data": {
      "text/plain": [
       "(1556, [0, 0, 0, 0, 0, 0, 0, 0, 0, 0])"
      ]
     },
     "execution_count": 20,
     "metadata": {},
     "output_type": "execute_result"
    }
   ],
   "source": [
    "# Prolong the notes\n",
    "output = []\n",
    "for p in preds:\n",
    "    # Weighted choice (* 2 for longer range of notes)\n",
    "    range_n = [p] * random.choice(len_dict[p][\"range\"]) * 2\n",
    "    output.extend(range_n)\n",
    "len(output), output[:10]"
   ]
  },
  {
   "cell_type": "code",
   "execution_count": 21,
   "metadata": {},
   "outputs": [
    {
     "data": {
      "text/html": [
       "<div>\n",
       "<style scoped>\n",
       "    .dataframe tbody tr th:only-of-type {\n",
       "        vertical-align: middle;\n",
       "    }\n",
       "\n",
       "    .dataframe tbody tr th {\n",
       "        vertical-align: top;\n",
       "    }\n",
       "\n",
       "    .dataframe thead th {\n",
       "        text-align: right;\n",
       "    }\n",
       "</style>\n",
       "<table border=\"1\" class=\"dataframe\">\n",
       "  <thead>\n",
       "    <tr style=\"text-align: right;\">\n",
       "      <th></th>\n",
       "      <th>0</th>\n",
       "    </tr>\n",
       "  </thead>\n",
       "  <tbody>\n",
       "    <tr>\n",
       "      <th>0</th>\n",
       "      <td>0</td>\n",
       "    </tr>\n",
       "    <tr>\n",
       "      <th>1</th>\n",
       "      <td>0</td>\n",
       "    </tr>\n",
       "    <tr>\n",
       "      <th>2</th>\n",
       "      <td>0</td>\n",
       "    </tr>\n",
       "    <tr>\n",
       "      <th>3</th>\n",
       "      <td>0</td>\n",
       "    </tr>\n",
       "    <tr>\n",
       "      <th>4</th>\n",
       "      <td>0</td>\n",
       "    </tr>\n",
       "    <tr>\n",
       "      <th>...</th>\n",
       "      <td>...</td>\n",
       "    </tr>\n",
       "    <tr>\n",
       "      <th>1551</th>\n",
       "      <td>73</td>\n",
       "    </tr>\n",
       "    <tr>\n",
       "      <th>1552</th>\n",
       "      <td>61</td>\n",
       "    </tr>\n",
       "    <tr>\n",
       "      <th>1553</th>\n",
       "      <td>61</td>\n",
       "    </tr>\n",
       "    <tr>\n",
       "      <th>1554</th>\n",
       "      <td>61</td>\n",
       "    </tr>\n",
       "    <tr>\n",
       "      <th>1555</th>\n",
       "      <td>61</td>\n",
       "    </tr>\n",
       "  </tbody>\n",
       "</table>\n",
       "<p>1556 rows × 1 columns</p>\n",
       "</div>"
      ],
      "text/plain": [
       "       0\n",
       "0      0\n",
       "1      0\n",
       "2      0\n",
       "3      0\n",
       "4      0\n",
       "...   ..\n",
       "1551  73\n",
       "1552  61\n",
       "1553  61\n",
       "1554  61\n",
       "1555  61\n",
       "\n",
       "[1556 rows x 1 columns]"
      ]
     },
     "execution_count": 21,
     "metadata": {},
     "output_type": "execute_result"
    }
   ],
   "source": [
    "df = pd.DataFrame(output)\n",
    "df"
   ]
  },
  {
   "cell_type": "code",
   "execution_count": 22,
   "metadata": {},
   "outputs": [],
   "source": [
    "f = f\"F_{voice}.txt\"\n",
    "df.to_csv(f, sep=\"\\t\", header=None, index=None)"
   ]
  }
 ],
 "metadata": {
  "kernelspec": {
   "display_name": "Python 3",
   "language": "python",
   "name": "python3"
  },
  "language_info": {
   "codemirror_mode": {
    "name": "ipython",
    "version": 3
   },
   "file_extension": ".py",
   "mimetype": "text/x-python",
   "name": "python",
   "nbconvert_exporter": "python",
   "pygments_lexer": "ipython3",
   "version": "3.8.5"
  }
 },
 "nbformat": 4,
 "nbformat_minor": 4
}
