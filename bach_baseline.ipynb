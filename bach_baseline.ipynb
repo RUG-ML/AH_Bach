{
 "cells": [
  {
   "cell_type": "code",
   "execution_count": 1,
   "metadata": {},
   "outputs": [],
   "source": [
    "import pandas as pd\n",
    "import numpy as np\n",
    "\n",
    "from sklearn.linear_model import LinearRegression\n",
    "from sklearn.model_selection import TimeSeriesSplit\n",
    "from sklearn.metrics import accuracy_score"
   ]
  },
  {
   "cell_type": "code",
   "execution_count": 2,
   "metadata": {},
   "outputs": [
    {
     "data": {
      "text/html": [
       "<div>\n",
       "<style scoped>\n",
       "    .dataframe tbody tr th:only-of-type {\n",
       "        vertical-align: middle;\n",
       "    }\n",
       "\n",
       "    .dataframe tbody tr th {\n",
       "        vertical-align: top;\n",
       "    }\n",
       "\n",
       "    .dataframe thead th {\n",
       "        text-align: right;\n",
       "    }\n",
       "</style>\n",
       "<table border=\"1\" class=\"dataframe\">\n",
       "  <thead>\n",
       "    <tr style=\"text-align: right;\">\n",
       "      <th></th>\n",
       "      <th>0</th>\n",
       "      <th>1</th>\n",
       "      <th>2</th>\n",
       "      <th>3</th>\n",
       "    </tr>\n",
       "  </thead>\n",
       "  <tbody>\n",
       "    <tr>\n",
       "      <th>0</th>\n",
       "      <td>0</td>\n",
       "      <td>0</td>\n",
       "      <td>0</td>\n",
       "      <td>0</td>\n",
       "    </tr>\n",
       "    <tr>\n",
       "      <th>1</th>\n",
       "      <td>0</td>\n",
       "      <td>0</td>\n",
       "      <td>0</td>\n",
       "      <td>0</td>\n",
       "    </tr>\n",
       "    <tr>\n",
       "      <th>2</th>\n",
       "      <td>0</td>\n",
       "      <td>0</td>\n",
       "      <td>0</td>\n",
       "      <td>0</td>\n",
       "    </tr>\n",
       "    <tr>\n",
       "      <th>3</th>\n",
       "      <td>0</td>\n",
       "      <td>0</td>\n",
       "      <td>0</td>\n",
       "      <td>0</td>\n",
       "    </tr>\n",
       "    <tr>\n",
       "      <th>4</th>\n",
       "      <td>0</td>\n",
       "      <td>0</td>\n",
       "      <td>0</td>\n",
       "      <td>0</td>\n",
       "    </tr>\n",
       "    <tr>\n",
       "      <th>...</th>\n",
       "      <td>...</td>\n",
       "      <td>...</td>\n",
       "      <td>...</td>\n",
       "      <td>...</td>\n",
       "    </tr>\n",
       "    <tr>\n",
       "      <th>3819</th>\n",
       "      <td>0</td>\n",
       "      <td>0</td>\n",
       "      <td>49</td>\n",
       "      <td>0</td>\n",
       "    </tr>\n",
       "    <tr>\n",
       "      <th>3820</th>\n",
       "      <td>0</td>\n",
       "      <td>0</td>\n",
       "      <td>51</td>\n",
       "      <td>0</td>\n",
       "    </tr>\n",
       "    <tr>\n",
       "      <th>3821</th>\n",
       "      <td>0</td>\n",
       "      <td>0</td>\n",
       "      <td>51</td>\n",
       "      <td>0</td>\n",
       "    </tr>\n",
       "    <tr>\n",
       "      <th>3822</th>\n",
       "      <td>0</td>\n",
       "      <td>0</td>\n",
       "      <td>54</td>\n",
       "      <td>0</td>\n",
       "    </tr>\n",
       "    <tr>\n",
       "      <th>3823</th>\n",
       "      <td>0</td>\n",
       "      <td>0</td>\n",
       "      <td>54</td>\n",
       "      <td>0</td>\n",
       "    </tr>\n",
       "  </tbody>\n",
       "</table>\n",
       "<p>3824 rows × 4 columns</p>\n",
       "</div>"
      ],
      "text/plain": [
       "      0  1   2  3\n",
       "0     0  0   0  0\n",
       "1     0  0   0  0\n",
       "2     0  0   0  0\n",
       "3     0  0   0  0\n",
       "4     0  0   0  0\n",
       "...  .. ..  .. ..\n",
       "3819  0  0  49  0\n",
       "3820  0  0  51  0\n",
       "3821  0  0  51  0\n",
       "3822  0  0  54  0\n",
       "3823  0  0  54  0\n",
       "\n",
       "[3824 rows x 4 columns]"
      ]
     },
     "execution_count": 2,
     "metadata": {},
     "output_type": "execute_result"
    }
   ],
   "source": [
    "dat = pd.read_csv(\"F.txt\", sep=\"\\t\", header=None)\n",
    "dat"
   ]
  },
  {
   "cell_type": "code",
   "execution_count": 3,
   "metadata": {},
   "outputs": [
    {
     "name": "stdout",
     "output_type": "stream",
     "text": [
      "[0, 0, 0, 0, 0, 0, 0, 0, 42, 42]\n"
     ]
    }
   ],
   "source": [
    "X = list(dat[3]) # 4th voice\n",
    "print(X[:10])"
   ]
  },
  {
   "cell_type": "code",
   "execution_count": 4,
   "metadata": {},
   "outputs": [
    {
     "name": "stdout",
     "output_type": "stream",
     "text": [
      "26\n"
     ]
    },
    {
     "data": {
      "text/plain": [
       "[1, 0, 0, 0, 0, 0, 0, 0, 0, 0, 0, 0, 0, 0, 0, 0, 0, 0, 0, 0, 0, 0, 0, 0, 0, 0]"
      ]
     },
     "execution_count": 4,
     "metadata": {},
     "output_type": "execute_result"
    }
   ],
   "source": [
    "set_X = list(set(X))\n",
    "print(len(set_X))\n",
    "# Conversion to n dimensional one hot vector\n",
    "X_vec = []\n",
    "for x in X:\n",
    "    n = set_X.index(x)\n",
    "    vec = [1 if i==n else 0 for i in range(len(set_X))]\n",
    "    X_vec.append(vec)\n",
    "X_vec[0]"
   ]
  },
  {
   "cell_type": "code",
   "execution_count": 5,
   "metadata": {},
   "outputs": [
    {
     "name": "stdout",
     "output_type": "stream",
     "text": [
      "[1 0 0 0 0 0 0 0 0 0 0 0 0 0 0 0 0 0 0 0 0 0 0 0 0 0]\n",
      "[1 0 0 0 0 0 0 0 0 0 0 0 0 0 0 0 0 0 0 0 0 0 0 0 0 0]\n"
     ]
    }
   ],
   "source": [
    "# Sliding window with one-step forecasting\n",
    "X_t0 = np.array(X_vec[:-1])\n",
    "y = np.array(X_vec[1:])\n",
    "print(X_t0[0])\n",
    "print(y[0])"
   ]
  },
  {
   "cell_type": "code",
   "execution_count": 6,
   "metadata": {},
   "outputs": [],
   "source": [
    "reg = LinearRegression().fit(X_t0, y)"
   ]
  },
  {
   "cell_type": "code",
   "execution_count": 7,
   "metadata": {},
   "outputs": [
    {
     "data": {
      "text/plain": [
       "array([[ 9.59716797e-01, -7.28583860e-17, -1.21430643e-16,\n",
       "        -2.12503626e-17, -2.08166817e-16, -6.93889390e-18,\n",
       "         3.26442719e-03, -6.33174069e-17,  3.29589844e-03,\n",
       "         3.26633453e-03, -7.97972799e-17,  5.29479980e-03,\n",
       "         1.69372559e-03,  7.08007812e-03,  1.84631348e-03,\n",
       "         3.57055664e-03,  4.89997864e-03,  4.74880552e-17,\n",
       "         1.65557861e-03,  1.59931183e-03,  2.88391113e-03,\n",
       "        -1.04904175e-05, -1.14440918e-05, -3.27971157e-18,\n",
       "        -5.01443505e-18, -5.09913834e-18]])"
      ]
     },
     "execution_count": 7,
     "metadata": {},
     "output_type": "execute_result"
    }
   ],
   "source": [
    "# Sanity check on last training instance\n",
    "reg.predict([X_t0[-1]])"
   ]
  },
  {
   "cell_type": "code",
   "execution_count": 8,
   "metadata": {},
   "outputs": [
    {
     "data": {
      "text/plain": [
       "47"
      ]
     },
     "execution_count": 8,
     "metadata": {},
     "output_type": "execute_result"
    }
   ],
   "source": [
    "# Possible (quick/easy) way to trace back to note:\n",
    "# Get the max probability \n",
    "# Trace back the note via its index e.g.\n",
    "yhat = reg.predict([X_t0[49]])\n",
    "set_X[yhat.tolist()[0].index(max(yhat.tolist()[0]))]"
   ]
  },
  {
   "cell_type": "code",
   "execution_count": 9,
   "metadata": {},
   "outputs": [
    {
     "name": "stdout",
     "output_type": "stream",
     "text": [
      "TimeSeriesSplit(max_train_size=None, n_splits=5)\n",
      "TRAIN: [0 ... 637] TEST: [638 ... 1274]\n",
      "0.8006279434850864\n",
      "TRAIN: [0 ... 1274] TEST: [1275 ... 1911]\n",
      "0.8649921507064364\n",
      "TRAIN: [0 ... 1911] TEST: [1912 ... 2548]\n",
      "0.7692307692307693\n",
      "TRAIN: [0 ... 2548] TEST: [2549 ... 3185]\n",
      "0.7645211930926217\n",
      "TRAIN: [0 ... 3185] TEST: [3186 ... 3822]\n",
      "0.8367346938775511\n",
      "0.8072213500784929\n"
     ]
    }
   ],
   "source": [
    "# Cross validation for time series\n",
    "tscv = TimeSeriesSplit()\n",
    "print(tscv)\n",
    "\n",
    "avg_acc = 0\n",
    "\n",
    "for train_index, test_index in tscv.split(X_t0):\n",
    "    print(f\"TRAIN: [{train_index[0]} ... {train_index[-1]}] TEST: [{test_index[0]} ... {test_index[-1]}]\")\n",
    "    X_train, X_test = X_t0[train_index], X_t0[test_index]\n",
    "    y_train, y_test = y[train_index], y[test_index]\n",
    "    \n",
    "    reg = LinearRegression().fit(X_train, y_train)\n",
    "    y_pred_vec = reg.predict(X_test)\n",
    "    \n",
    "    # Convert one hot to note\n",
    "    y_pred = [set_X[y.tolist().index(max(y.tolist()))] for y in y_pred_vec]\n",
    "    y_test = [set_X[y.tolist().index(max(y.tolist()))] for y in y_test]\n",
    "    \n",
    "    print(accuracy_score(y_test, y_pred))\n",
    "    avg_acc += accuracy_score(y_test, y_pred)\n",
    "    \n",
    "print(avg_acc/tscv.n_splits)"
   ]
  },
  {
   "cell_type": "code",
   "execution_count": null,
   "metadata": {},
   "outputs": [],
   "source": []
  }
 ],
 "metadata": {
  "kernelspec": {
   "display_name": "Python 3",
   "language": "python",
   "name": "python3"
  },
  "language_info": {
   "codemirror_mode": {
    "name": "ipython",
    "version": 3
   },
   "file_extension": ".py",
   "mimetype": "text/x-python",
   "name": "python",
   "nbconvert_exporter": "python",
   "pygments_lexer": "ipython3",
   "version": "3.8.5"
  }
 },
 "nbformat": 4,
 "nbformat_minor": 4
}
